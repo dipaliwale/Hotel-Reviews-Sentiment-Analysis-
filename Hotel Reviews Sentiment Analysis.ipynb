{
 "cells": [
  {
   "cell_type": "code",
   "execution_count": 1,
   "id": "21ca4030",
   "metadata": {},
   "outputs": [],
   "source": [
    "#Project(Hotel Reviews Sentiment Analysis)"
   ]
  },
  {
   "cell_type": "code",
   "execution_count": 2,
   "id": "cc85441f",
   "metadata": {},
   "outputs": [],
   "source": [
    "import numpy as np\n",
    "import pandas as pd"
   ]
  },
  {
   "cell_type": "code",
   "execution_count": 3,
   "id": "5283935b",
   "metadata": {},
   "outputs": [
    {
     "data": {
      "text/html": [
       "<div>\n",
       "<style scoped>\n",
       "    .dataframe tbody tr th:only-of-type {\n",
       "        vertical-align: middle;\n",
       "    }\n",
       "\n",
       "    .dataframe tbody tr th {\n",
       "        vertical-align: top;\n",
       "    }\n",
       "\n",
       "    .dataframe thead th {\n",
       "        text-align: right;\n",
       "    }\n",
       "</style>\n",
       "<table border=\"1\" class=\"dataframe\">\n",
       "  <thead>\n",
       "    <tr style=\"text-align: right;\">\n",
       "      <th></th>\n",
       "      <th>Review</th>\n",
       "      <th>Rating</th>\n",
       "    </tr>\n",
       "  </thead>\n",
       "  <tbody>\n",
       "    <tr>\n",
       "      <th>0</th>\n",
       "      <td>nice hotel expensive parking got good deal sta...</td>\n",
       "      <td>4</td>\n",
       "    </tr>\n",
       "    <tr>\n",
       "      <th>1</th>\n",
       "      <td>ok nothing special charge diamond member hilto...</td>\n",
       "      <td>2</td>\n",
       "    </tr>\n",
       "    <tr>\n",
       "      <th>2</th>\n",
       "      <td>nice rooms not 4* experience hotel monaco seat...</td>\n",
       "      <td>3</td>\n",
       "    </tr>\n",
       "    <tr>\n",
       "      <th>3</th>\n",
       "      <td>unique, great stay, wonderful time hotel monac...</td>\n",
       "      <td>5</td>\n",
       "    </tr>\n",
       "    <tr>\n",
       "      <th>4</th>\n",
       "      <td>great stay great stay, went seahawk game aweso...</td>\n",
       "      <td>5</td>\n",
       "    </tr>\n",
       "  </tbody>\n",
       "</table>\n",
       "</div>"
      ],
      "text/plain": [
       "                                              Review  Rating\n",
       "0  nice hotel expensive parking got good deal sta...       4\n",
       "1  ok nothing special charge diamond member hilto...       2\n",
       "2  nice rooms not 4* experience hotel monaco seat...       3\n",
       "3  unique, great stay, wonderful time hotel monac...       5\n",
       "4  great stay great stay, went seahawk game aweso...       5"
      ]
     },
     "execution_count": 3,
     "metadata": {},
     "output_type": "execute_result"
    }
   ],
   "source": [
    "df=pd.read_csv(\"C:\\\\Users\\\\DIPALI\\\\Desktop\\\\Desktop\\\\Data Analyst class 2023\\\\hotel.csv\")\n",
    "df.head()"
   ]
  },
  {
   "cell_type": "code",
   "execution_count": 4,
   "id": "75203b31",
   "metadata": {},
   "outputs": [
    {
     "data": {
      "text/plain": [
       "'nice hotel expensive parking got good deal stay hotel anniversary, arrived late evening took advice previous reviews did valet parking, check quick easy, little disappointed non-existent view room room clean nice size, bed comfortable woke stiff neck high pillows, not soundproof like heard music room night morning loud bangs doors opening closing hear people talking hallway, maybe just noisy neighbors, aveda bath products nice, did not goldfish stay nice touch taken advantage staying longer, location great walking distance shopping, overall nice experience having pay 40 parking night,  '"
      ]
     },
     "execution_count": 4,
     "metadata": {},
     "output_type": "execute_result"
    }
   ],
   "source": [
    "df['Review'][0]"
   ]
  },
  {
   "cell_type": "code",
   "execution_count": 5,
   "id": "9a634558",
   "metadata": {},
   "outputs": [],
   "source": [
    "import seaborn as sns\n",
    "import matplotlib.pyplot as plt"
   ]
  },
  {
   "cell_type": "code",
   "execution_count": 6,
   "id": "3f1bdd97",
   "metadata": {},
   "outputs": [],
   "source": [
    "#SentimentIntensityAnalyser ==> NLTK(Natural Language Tool kit) ==>text ==>Review(Positive,Negative,Neutral)"
   ]
  },
  {
   "cell_type": "code",
   "execution_count": 24,
   "id": "42085348",
   "metadata": {},
   "outputs": [
    {
     "data": {
      "text/plain": [
       "5    9054\n",
       "4    6039\n",
       "3    2184\n",
       "2    1793\n",
       "1    1421\n",
       "Name: Rating, dtype: int64"
      ]
     },
     "execution_count": 24,
     "metadata": {},
     "output_type": "execute_result"
    }
   ],
   "source": [
    "ratings=df['Rating'].value_counts()\n",
    "ratings"
   ]
  },
  {
   "cell_type": "code",
   "execution_count": 8,
   "id": "7703ddd8",
   "metadata": {},
   "outputs": [
    {
     "data": {
      "text/plain": [
       "Int64Index([5, 4, 3, 2, 1], dtype='int64')"
      ]
     },
     "execution_count": 8,
     "metadata": {},
     "output_type": "execute_result"
    }
   ],
   "source": [
    "numbers=ratings.index\n",
    "numbers"
   ]
  },
  {
   "cell_type": "code",
   "execution_count": 9,
   "id": "b140461f",
   "metadata": {},
   "outputs": [
    {
     "data": {
      "text/plain": [
       "array([9054, 6039, 2184, 1793, 1421], dtype=int64)"
      ]
     },
     "execution_count": 9,
     "metadata": {},
     "output_type": "execute_result"
    }
   ],
   "source": [
    "quantity=ratings.values\n",
    "quantity"
   ]
  },
  {
   "cell_type": "code",
   "execution_count": 10,
   "id": "27c3dd03",
   "metadata": {},
   "outputs": [
    {
     "data": {
      "image/png": "[encoded data removed]",
      "text/plain": [
       "<Figure size 700x700 with 1 Axes>"
      ]
     },
     "metadata": {},
     "output_type": "display_data"
    }
   ],
   "source": [
    "custom_colors=['skyblue','yellowgreen','tomato','blue','red']\n",
    "plt.figure(figsize=(7,7))\n",
    "plt.pie(quantity,labels=numbers,colors=custom_colors)\n",
    "central_circle=plt.Circle((0,0),0.5,color='white')\n",
    "fig=plt.gcf()\n",
    "fig.gca().add_artist(central_circle)\n",
    "plt.rc('font',size=12)\n",
    "plt.title('Hotel Reviews Rating',fontsize=20)\n",
    "plt.show()"
   ]
  },
  {
   "cell_type": "code",
   "execution_count": 20,
   "id": "d48469ef",
   "metadata": {},
   "outputs": [
    {
     "name": "stderr",
     "output_type": "stream",
     "text": [
      "[nltk_data] Downloading package vader_lexicon to\n",
      "[nltk_data]     C:\\Users\\DIPALI\\AppData\\Roaming\\nltk_data...\n"
     ]
    },
    {
     "data": {
      "text/plain": [
       "True"
      ]
     },
     "execution_count": 20,
     "metadata": {},
     "output_type": "execute_result"
    }
   ],
   "source": [
    " import nltk\n",
    " nltk.download('vader_lexicon')   "
   ]
  },
  {
   "cell_type": "code",
   "execution_count": null,
   "id": "5446ec60",
   "metadata": {},
   "outputs": [],
   "source": [
    "from nltk.sentiment.vader import SentimentIntensityAnalyzer"
   ]
  },
  {
   "cell_type": "code",
   "execution_count": 21,
   "id": "2c50421d",
   "metadata": {},
   "outputs": [],
   "source": [
    "sentiments = SentimentIntensityAnalyzer()"
   ]
  },
  {
   "cell_type": "code",
   "execution_count": 15,
   "id": "7e4585ba",
   "metadata": {},
   "outputs": [],
   "source": [
    "# To analyze the sentiments of the hotel reviews we will add 3 additional coloum to \n",
    "#this dataset as Positive, Negative ,and Neutral by calculating the sentiment scores of the reviews."
   ]
  },
  {
   "cell_type": "code",
   "execution_count": 22,
   "id": "1afec9e7",
   "metadata": {},
   "outputs": [],
   "source": [
    "df['Positive']=[sentiments.polarity_scores(i)['pos'] for i in df['Review']]\n",
    "df['Negative']=[sentiments.polarity_scores(i)['neg'] for i in df['Review']]\n",
    "df['Neutral']=[sentiments.polarity_scores(i)['neu'] for i in df['Review']]"
   ]
  },
  {
   "cell_type": "code",
   "execution_count": 23,
   "id": "dc6b50e6",
   "metadata": {},
   "outputs": [
    {
     "data": {
      "text/html": [
       "<div>\n",
       "<style scoped>\n",
       "    .dataframe tbody tr th:only-of-type {\n",
       "        vertical-align: middle;\n",
       "    }\n",
       "\n",
       "    .dataframe tbody tr th {\n",
       "        vertical-align: top;\n",
       "    }\n",
       "\n",
       "    .dataframe thead th {\n",
       "        text-align: right;\n",
       "    }\n",
       "</style>\n",
       "<table border=\"1\" class=\"dataframe\">\n",
       "  <thead>\n",
       "    <tr style=\"text-align: right;\">\n",
       "      <th></th>\n",
       "      <th>Review</th>\n",
       "      <th>Rating</th>\n",
       "      <th>Positive</th>\n",
       "      <th>Negative</th>\n",
       "      <th>Neutral</th>\n",
       "    </tr>\n",
       "  </thead>\n",
       "  <tbody>\n",
       "    <tr>\n",
       "      <th>0</th>\n",
       "      <td>nice hotel expensive parking got good deal sta...</td>\n",
       "      <td>4</td>\n",
       "      <td>0.285</td>\n",
       "      <td>0.072</td>\n",
       "      <td>0.643</td>\n",
       "    </tr>\n",
       "    <tr>\n",
       "      <th>1</th>\n",
       "      <td>ok nothing special charge diamond member hilto...</td>\n",
       "      <td>2</td>\n",
       "      <td>0.189</td>\n",
       "      <td>0.110</td>\n",
       "      <td>0.701</td>\n",
       "    </tr>\n",
       "    <tr>\n",
       "      <th>2</th>\n",
       "      <td>nice rooms not 4* experience hotel monaco seat...</td>\n",
       "      <td>3</td>\n",
       "      <td>0.219</td>\n",
       "      <td>0.081</td>\n",
       "      <td>0.700</td>\n",
       "    </tr>\n",
       "    <tr>\n",
       "      <th>3</th>\n",
       "      <td>unique, great stay, wonderful time hotel monac...</td>\n",
       "      <td>5</td>\n",
       "      <td>0.385</td>\n",
       "      <td>0.060</td>\n",
       "      <td>0.555</td>\n",
       "    </tr>\n",
       "    <tr>\n",
       "      <th>4</th>\n",
       "      <td>great stay great stay, went seahawk game aweso...</td>\n",
       "      <td>5</td>\n",
       "      <td>0.221</td>\n",
       "      <td>0.135</td>\n",
       "      <td>0.643</td>\n",
       "    </tr>\n",
       "  </tbody>\n",
       "</table>\n",
       "</div>"
      ],
      "text/plain": [
       "                                              Review  Rating  Positive  \\\n",
       "0  nice hotel expensive parking got good deal sta...       4     0.285   \n",
       "1  ok nothing special charge diamond member hilto...       2     0.189   \n",
       "2  nice rooms not 4* experience hotel monaco seat...       3     0.219   \n",
       "3  unique, great stay, wonderful time hotel monac...       5     0.385   \n",
       "4  great stay great stay, went seahawk game aweso...       5     0.221   \n",
       "\n",
       "   Negative  Neutral  \n",
       "0     0.072    0.643  \n",
       "1     0.110    0.701  \n",
       "2     0.081    0.700  \n",
       "3     0.060    0.555  \n",
       "4     0.135    0.643  "
      ]
     },
     "execution_count": 23,
     "metadata": {},
     "output_type": "execute_result"
    }
   ],
   "source": [
    "df.head()"
   ]
  },
  {
   "cell_type": "code",
   "execution_count": 25,
   "id": "30610553",
   "metadata": {},
   "outputs": [],
   "source": [
    "#According to the reviews, hotel guests seem satisfied with the services,now lets take a look at \n",
    "# how most people think about hotel services based on sentiments of the reviews."
   ]
  },
  {
   "cell_type": "code",
   "execution_count": 26,
   "id": "f03d52d9",
   "metadata": {},
   "outputs": [],
   "source": [
    "x=sum(df['Positive'])\n",
    "y=sum(df['Negative'])\n",
    "z=sum(df['Neutral'])\n"
   ]
  },
  {
   "cell_type": "code",
   "execution_count": 28,
   "id": "8a41befc",
   "metadata": {},
   "outputs": [
    {
     "name": "stdout",
     "output_type": "stream",
     "text": [
      "Total Positive = 6359.91000000002\n",
      "Total Negative = 1473.4750000000038\n",
      "Total Neutral = 12657.627999999937\n"
     ]
    }
   ],
   "source": [
    "print(\"Total Positive =\",x)\n",
    "print(\"Total Negative =\",y)\n",
    "print(\"Total Neutral =\",z)"
   ]
  },
  {
   "cell_type": "code",
   "execution_count": 29,
   "id": "f855a786",
   "metadata": {},
   "outputs": [
    {
     "name": "stdout",
     "output_type": "stream",
     "text": [
      "Neutral\n"
     ]
    }
   ],
   "source": [
    "def sentiment_scores(a,b,c):\n",
    "    if(a>b) and (a>c):\n",
    "        print(\"Positive😊\")\n",
    "    elif(b>a) and (b>c):\n",
    "        print(\"Negative😊\")\n",
    "    else:\n",
    "        print(\"Neutral\")\n",
    "sentiment_scores(x,y,z)"
   ]
  },
  {
   "cell_type": "code",
   "execution_count": null,
   "id": "237facb7",
   "metadata": {},
   "outputs": [],
   "source": []
  }
 ],
 "metadata": {
  "kernelspec": {
   "display_name": "Python 3 (ipykernel)",
   "language": "python",
   "name": "python3"
  },
  "language_info": {
   "codemirror_mode": {
    "name": "ipython",
    "version": 3
   },
   "file_extension": ".py",
   "mimetype": "text/x-python",
   "name": "python",
   "nbconvert_exporter": "python",
   "pygments_lexer": "ipython3",
   "version": "3.11.4"
  }
 },
 "nbformat": 4,
 "nbformat_minor": 5
}
